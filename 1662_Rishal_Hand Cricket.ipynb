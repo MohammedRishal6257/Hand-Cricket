{
 "cells": [
  {
   "cell_type": "markdown",
   "id": "ef6ca76c-97e5-4eac-8c0f-4625fd522daf",
   "metadata": {},
   "source": [
    "# HAND CRICKET GAME"
   ]
  },
  {
   "cell_type": "code",
   "execution_count": null,
   "id": "d34bd561-16e5-4b8d-837f-c7e54b0d5b37",
   "metadata": {},
   "outputs": [
    {
     "name": "stdout",
     "output_type": "stream",
     "text": [
      "Welcome to the game of Hand Cricket\n"
     ]
    },
    {
     "name": "stdin",
     "output_type": "stream",
     "text": [
      "Enter ODD or EVEN : even\n",
      "Enter Any Number Between 1 to 6 : 2\n"
     ]
    },
    {
     "name": "stdout",
     "output_type": "stream",
     "text": [
      "Input of Computer: 3\n",
      "Computer Wins The Toss\n",
      "Computer is going to Ball First\n",
      "You Are Going To Bat First\n"
     ]
    },
    {
     "name": "stdin",
     "output_type": "stream",
     "text": [
      "BAT : 5\n"
     ]
    },
    {
     "name": "stdout",
     "output_type": "stream",
     "text": [
      "Computer Balls: 6\n",
      "Your Current Score is: 5\n"
     ]
    },
    {
     "name": "stdin",
     "output_type": "stream",
     "text": [
      "BAT : 5\n"
     ]
    },
    {
     "name": "stdout",
     "output_type": "stream",
     "text": [
      "Computer Balls: 3\n",
      "Your Current Score is: 10\n"
     ]
    },
    {
     "name": "stdin",
     "output_type": "stream",
     "text": [
      "BAT : 5\n"
     ]
    },
    {
     "name": "stdout",
     "output_type": "stream",
     "text": [
      "Computer Balls: 6\n",
      "Your Current Score is: 15\n"
     ]
    },
    {
     "name": "stdin",
     "output_type": "stream",
     "text": [
      "BAT : 5\n"
     ]
    },
    {
     "name": "stdout",
     "output_type": "stream",
     "text": [
      "Computer Balls: 4\n",
      "Your Current Score is: 20\n"
     ]
    },
    {
     "name": "stdin",
     "output_type": "stream",
     "text": [
      "BAT : 5\n"
     ]
    },
    {
     "name": "stdout",
     "output_type": "stream",
     "text": [
      "Computer Balls: 4\n",
      "Your Current Score is: 25\n"
     ]
    },
    {
     "name": "stdin",
     "output_type": "stream",
     "text": [
      "BAT : 5\n"
     ]
    },
    {
     "name": "stdout",
     "output_type": "stream",
     "text": [
      "Computer Balls: 3\n",
      "Your Current Score is: 30\n"
     ]
    },
    {
     "name": "stdin",
     "output_type": "stream",
     "text": [
      "BAT : 5\n"
     ]
    },
    {
     "name": "stdout",
     "output_type": "stream",
     "text": [
      "Computer Balls: 5\n",
      "Your Current Score is: 35\n",
      "Computer Took Your Wicket\n",
      "Computer Is Going To Bat Now\n",
      "Computer Needs 36 Runs To Win The Game\n"
     ]
    },
    {
     "name": "stdin",
     "output_type": "stream",
     "text": [
      "BALL : 5\n"
     ]
    },
    {
     "name": "stdout",
     "output_type": "stream",
     "text": [
      "Computer Bats: 4\n",
      "The Current Score of Computer is: 4\n"
     ]
    },
    {
     "name": "stdin",
     "output_type": "stream",
     "text": [
      "BALL : 4\n"
     ]
    },
    {
     "name": "stdout",
     "output_type": "stream",
     "text": [
      "Computer Bats: 6\n",
      "The Current Score of Computer is: 10\n"
     ]
    },
    {
     "name": "stdin",
     "output_type": "stream",
     "text": [
      "BALL : 4\n"
     ]
    },
    {
     "name": "stdout",
     "output_type": "stream",
     "text": [
      "Computer Bats: 5\n",
      "The Current Score of Computer is: 15\n"
     ]
    },
    {
     "name": "stdin",
     "output_type": "stream",
     "text": [
      "BALL : 4\n"
     ]
    },
    {
     "name": "stdout",
     "output_type": "stream",
     "text": [
      "Computer Bats: 4\n",
      "The Current Score of Computer is: 19\n",
      "You Won The Match By 16 Runs\n"
     ]
    },
    {
     "name": "stdin",
     "output_type": "stream",
     "text": [
      "Do you want to play again? (yes/no)  y\n"
     ]
    },
    {
     "name": "stdout",
     "output_type": "stream",
     "text": [
      "Welcome to the game of Hand Cricket\n"
     ]
    }
   ],
   "source": [
    "import random\n",
    "\n",
    "class HandCricketGame:\n",
    "    def __init__(self):\n",
    "        self.runs = 0\n",
    "        self.computer_runs = 0\n",
    "        self.player_score = 0\n",
    "        self.computer_ball = 0\n",
    "        self.ball_score = 0\n",
    "        self.toss_choice = \"\"\n",
    "        self.computer_toss_choice = \"\"\n",
    "\n",
    "    def first_batting(self):\n",
    "        print(\"You Are Going To Bat First\")\n",
    "        while True:\n",
    "            try:\n",
    "                self.player_score = int(input(\"BAT :\"))\n",
    "                if self.player_score < 1 or self.player_score > 6:\n",
    "                    print(\"Invalid input. Please enter a number between 1 and 6.\")\n",
    "                    continue\n",
    "            except ValueError:\n",
    "                print(\"Invalid input. Please enter a valid integer.\")\n",
    "                continue\n",
    "\n",
    "            self.computer_ball = random.randint(1, 6)\n",
    "            print(f\"Computer Balls: {self.computer_ball}\")\n",
    "            self.runs += self.player_score\n",
    "            print(f\"Your Current Score is: {self.runs}\")\n",
    "            \n",
    "            if self.player_score == self.computer_ball:\n",
    "                print(\"Computer Took Your Wicket\")\n",
    "                print(f\"Computer Is Going To Bat Now\")\n",
    "                print(f\"Computer Needs {self.runs + 1} Runs To Win The Game\")\n",
    "                \n",
    "                while True:\n",
    "                    try:\n",
    "                        self.ball_score = int(input(\"BALL :\"))\n",
    "                        if self.ball_score < 1 or self.ball_score > 6:\n",
    "                            print(\"Invalid input. Please enter a number between 1 and 6.\")\n",
    "                            continue\n",
    "                    except ValueError:\n",
    "                        print(\"Invalid input. Please enter a valid integer.\")\n",
    "                        continue\n",
    "\n",
    "                    computer_run = random.randint(1, 6)\n",
    "                    print(f\"Computer Bats: {computer_run}\")\n",
    "                    self.computer_runs += computer_run\n",
    "                    print(f\"The Current Score of Computer is: {self.computer_runs}\")\n",
    "                    \n",
    "                    if self.computer_runs > self.runs:\n",
    "                        print(\"Computer Won The Match\")\n",
    "                        return\n",
    "                    elif self.ball_score == computer_run:\n",
    "                        print(f\"You Won The Match By {self.runs - self.computer_runs} Runs\")\n",
    "                        return\n",
    "\n",
    "    def first_bowling(self):\n",
    "        print(\"You Are Going To Ball First\")\n",
    "        while True:\n",
    "            try:\n",
    "                self.ball_score = int(input(\"BALL :\"))\n",
    "                if self.ball_score < 1 or self.ball_score > 6:\n",
    "                    print(\"Invalid input. Please enter a number between 1 and 6.\")\n",
    "                    continue\n",
    "            except ValueError:\n",
    "                print(\"Invalid input. Please enter a valid integer.\")\n",
    "                continue\n",
    "\n",
    "            self.computer_ball = random.randint(1, 6)\n",
    "            print(f\"Computer Bats: {self.computer_ball}\")\n",
    "            self.computer_runs += self.computer_ball\n",
    "            print(f\"The Current Score of Computer is: {self.computer_runs}\")\n",
    "            \n",
    "            if self.ball_score == self.computer_ball:\n",
    "                print(\"You Took Computer Wicket\")\n",
    "                print(f\"You Are Going To Bat Now\")\n",
    "                print(f\"You Need {self.computer_runs + 1} Runs To Win The Match\")\n",
    "                \n",
    "                while True:\n",
    "                    try:\n",
    "                        self.player_score = int(input(\"BAT :\"))\n",
    "                        if self.player_score < 1 or self.player_score > 6:\n",
    "                            print(\"Invalid input. Please enter a number between 1 and 6.\")\n",
    "                            continue\n",
    "                    except ValueError:\n",
    "                        print(\"Invalid input. Please enter a valid integer.\")\n",
    "                        continue\n",
    "\n",
    "                    self.computer_ball = random.randint(1, 6)\n",
    "                    print(f\"Computer Balls: {self.computer_ball}\")\n",
    "                    self.runs += self.player_score\n",
    "                    print(f\"Your Current Score is: {self.runs}\")\n",
    "                    \n",
    "                    if self.runs > self.computer_runs:\n",
    "                        print(\"You Won The Match\")\n",
    "                        return\n",
    "                    elif self.player_score == self.computer_ball:\n",
    "                        print(f\"Computer Won The Match By {self.computer_runs - self.runs} Runs\")\n",
    "                        return\n",
    "\n",
    "    def play_game(self):\n",
    "        print(\"Welcome to the game of Hand Cricket\")\n",
    "        toss = input(\"Enter ODD or EVEN :\").upper()\n",
    "\n",
    "        try:\n",
    "            player_input = int(input(\"Enter Any Number Between 1 to 6 :\"))\n",
    "            if player_input < 1 or player_input > 6:\n",
    "                print(\"Invalid input. Please enter a number between 1 and 6.\")\n",
    "                return\n",
    "        except ValueError:\n",
    "            print(\"Invalid input. Please enter a valid integer.\")\n",
    "            return\n",
    "\n",
    "        computer_input = random.randint(1, 6)\n",
    "        print(f\"Input of Computer: {computer_input}\")\n",
    "\n",
    "        if toss == \"EVEN\":\n",
    "            if (player_input + computer_input) % 2 == 0:\n",
    "                print(\"You Won The Toss, Choose Bat Or Ball \")\n",
    "                self.toss_choice = input(\"BAT or BALL :\").upper()\n",
    "                if self.toss_choice == \"BAT\":\n",
    "                    self.first_batting()\n",
    "                elif self.toss_choice == \"BALL\":\n",
    "                    self.first_bowling()\n",
    "                else:\n",
    "                    print(\"Invalid Input\")\n",
    "                    return\n",
    "            else:\n",
    "                print(\"Computer Wins The Toss\")\n",
    "                self.computer_toss_choice = random.choice([\"BAT\", \"BALL\"])\n",
    "                if self.computer_toss_choice == \"BAT\":\n",
    "                    print(\"Computer is going to Bat First\")\n",
    "                    self.first_bowling()\n",
    "                elif self.computer_toss_choice == \"BALL\":\n",
    "                    print(\"Computer is going to Ball First\")\n",
    "                    self.first_batting()\n",
    "\n",
    "        elif toss == \"ODD\":\n",
    "            if (player_input + computer_input) % 2 != 0:\n",
    "                print(\"You Won The Toss, Choose Bat Or Ball \")\n",
    "                self.toss_choice = input(\"BAT or BALL :\").upper()\n",
    "                if self.toss_choice == \"BAT\":\n",
    "                    self.first_batting()\n",
    "                elif self.toss_choice == \"BALL\":\n",
    "                    self.first_bowling()\n",
    "                else:\n",
    "                    print(\"Invalid Input\")\n",
    "                    return\n",
    "            else:\n",
    "                print(\"Computer Wins The Toss\")\n",
    "                self.computer_toss_choice = random.choice([\"BAT\", \"BALL\"])\n",
    "                if self.computer_toss_choice == \"BAT\":\n",
    "                    print(\"Computer is going to Bat First\")\n",
    "                    self.first_bowling()\n",
    "                elif self.computer_toss_choice == \"BALL\":\n",
    "                    print(\"Computer is going to Ball First\")\n",
    "                    self.first_batting()\n",
    "\n",
    "def main():\n",
    "    game = HandCricketGame()\n",
    "    while True:\n",
    "        game.play_game()\n",
    "        play_again = input(\"Do you want to play again? (yes/no) \").strip().lower()\n",
    "        if play_again not in {\"yes\", \"y\"}:\n",
    "            print(\"Thank you for playing!\")\n",
    "            break\n",
    "\n",
    "if __name__ == \"__main__\":\n",
    "    main()\n"
   ]
  },
  {
   "cell_type": "code",
   "execution_count": null,
   "id": "4bc609d9-a667-454b-94d0-a2d69c5a1523",
   "metadata": {},
   "outputs": [],
   "source": []
  }
 ],
 "metadata": {
  "kernelspec": {
   "display_name": "Python 3 (ipykernel)",
   "language": "python",
   "name": "python3"
  },
  "language_info": {
   "codemirror_mode": {
    "name": "ipython",
    "version": 3
   },
   "file_extension": ".py",
   "mimetype": "text/x-python",
   "name": "python",
   "nbconvert_exporter": "python",
   "pygments_lexer": "ipython3",
   "version": "3.11.7"
  }
 },
 "nbformat": 4,
 "nbformat_minor": 5
}
